{
  "nbformat": 4,
  "nbformat_minor": 0,
  "metadata": {
    "colab": {
      "name": "Linear Regression Example.ipynb",
      "provenance": [],
      "collapsed_sections": [],
      "authorship_tag": "ABX9TyPawuhW4pVgMgeO5PzqoQGJ",
      "include_colab_link": true
    },
    "kernelspec": {
      "name": "python3",
      "display_name": "Python 3"
    },
    "language_info": {
      "name": "python"
    }
  },
  "cells": [
    {
      "cell_type": "markdown",
      "metadata": {
        "id": "view-in-github",
        "colab_type": "text"
      },
      "source": [
        "<a href=\"https://colab.research.google.com/github/sukritkapil2/Machine-Learning-Projects/blob/main/Linear_Regression_Example.ipynb\" target=\"_parent\"><img src=\"https://colab.research.google.com/assets/colab-badge.svg\" alt=\"Open In Colab\"/></a>"
      ]
    },
    {
      "cell_type": "code",
      "execution_count": 1,
      "metadata": {
        "id": "sfXvR6LbuyQf"
      },
      "outputs": [],
      "source": [
        "import matplotlib.pyplot as plt\n",
        "import numpy as np\n",
        "import pandas as pd\n",
        "import sklearn.linear_model\n",
        "\n",
        "data_sets_path = 'drive/MyDrive/DataSets/'"
      ]
    },
    {
      "cell_type": "code",
      "source": [
        "oecd_bli = pd.read_csv(data_sets_path + '/oecd_bli_2015.csv', thousands = ',')\n",
        "gdp_per_capita = pd.read_csv(data_sets_path + 'gdp_per_capita.csv', thousands = ',', delimiter = '\\t', encoding='latin1', na_values='n/a')"
      ],
      "metadata": {
        "colab": {
          "base_uri": "https://localhost:8080/"
        },
        "id": "2BR2z_n4z821",
        "outputId": "8574ed06-0f74-4802-f941-8a9318212026"
      },
      "execution_count": 2,
      "outputs": [
        {
          "output_type": "stream",
          "name": "stdout",
          "text": [
            "     LOCATION         Country INDICATOR  \\\n",
            "0         AUS       Australia   HO_BASE   \n",
            "1         AUT         Austria   HO_BASE   \n",
            "2         BEL         Belgium   HO_BASE   \n",
            "3         CAN          Canada   HO_BASE   \n",
            "4         CZE  Czech Republic   HO_BASE   \n",
            "...       ...             ...       ...   \n",
            "3287      EST         Estonia   WL_TNOW   \n",
            "3288      ISR          Israel   WL_TNOW   \n",
            "3289      RUS          Russia   WL_TNOW   \n",
            "3290      SVN        Slovenia   WL_TNOW   \n",
            "3291     OECD    OECD - Total   WL_TNOW   \n",
            "\n",
            "                                      Indicator MEASURE Measure INEQUALITY  \\\n",
            "0            Dwellings without basic facilities       L   Value        TOT   \n",
            "1            Dwellings without basic facilities       L   Value        TOT   \n",
            "2            Dwellings without basic facilities       L   Value        TOT   \n",
            "3            Dwellings without basic facilities       L   Value        TOT   \n",
            "4            Dwellings without basic facilities       L   Value        TOT   \n",
            "...                                         ...     ...     ...        ...   \n",
            "3287  Time devoted to leisure and personal care       L   Value        WMN   \n",
            "3288  Time devoted to leisure and personal care       L   Value        WMN   \n",
            "3289  Time devoted to leisure and personal care       L   Value        WMN   \n",
            "3290  Time devoted to leisure and personal care       L   Value        WMN   \n",
            "3291  Time devoted to leisure and personal care       L   Value        WMN   \n",
            "\n",
            "     Inequality Unit Code        Unit  PowerCode Code PowerCode  \\\n",
            "0         Total        PC  Percentage               0     units   \n",
            "1         Total        PC  Percentage               0     units   \n",
            "2         Total        PC  Percentage               0     units   \n",
            "3         Total        PC  Percentage               0     units   \n",
            "4         Total        PC  Percentage               0     units   \n",
            "...         ...       ...         ...             ...       ...   \n",
            "3287      Women      HOUR       Hours               0     units   \n",
            "3288      Women      HOUR       Hours               0     units   \n",
            "3289      Women      HOUR       Hours               0     units   \n",
            "3290      Women      HOUR       Hours               0     units   \n",
            "3291      Women      HOUR       Hours               0     units   \n",
            "\n",
            "      Reference Period Code  Reference Period  Value Flag Codes  \\\n",
            "0                       NaN               NaN   1.10          E   \n",
            "1                       NaN               NaN   1.00        NaN   \n",
            "2                       NaN               NaN   2.00        NaN   \n",
            "3                       NaN               NaN   0.20        NaN   \n",
            "4                       NaN               NaN   0.90        NaN   \n",
            "...                     ...               ...    ...        ...   \n",
            "3287                    NaN               NaN  14.43        NaN   \n",
            "3288                    NaN               NaN  14.24          E   \n",
            "3289                    NaN               NaN  14.75          E   \n",
            "3290                    NaN               NaN  14.12        NaN   \n",
            "3291                    NaN               NaN  14.74        NaN   \n",
            "\n",
            "                Flags  \n",
            "0     Estimated value  \n",
            "1                 NaN  \n",
            "2                 NaN  \n",
            "3                 NaN  \n",
            "4                 NaN  \n",
            "...               ...  \n",
            "3287              NaN  \n",
            "3288  Estimated value  \n",
            "3289  Estimated value  \n",
            "3290              NaN  \n",
            "3291              NaN  \n",
            "\n",
            "[3292 rows x 17 columns]\n"
          ]
        }
      ]
    }
  ]
}